{
  "nbformat": 4,
  "nbformat_minor": 0,
  "metadata": {
    "colab": {
      "provenance": [],
      "authorship_tag": "ABX9TyNkjv9OxF28hKs9w5yoDwPn",
      "include_colab_link": true
    },
    "kernelspec": {
      "name": "python3",
      "display_name": "Python 3"
    },
    "language_info": {
      "name": "python"
    }
  },
  "cells": [
    {
      "cell_type": "markdown",
      "metadata": {
        "id": "view-in-github",
        "colab_type": "text"
      },
      "source": [
        "<a href=\"https://colab.research.google.com/github/pradee2601/Agentic_Al_Workshop/blob/main/HealthCare.ipynb\" target=\"_parent\"><img src=\"https://colab.research.google.com/assets/colab-badge.svg\" alt=\"Open In Colab\"/></a>"
      ]
    },
    {
      "cell_type": "code",
      "execution_count": 1,
      "metadata": {
        "id": "6AK7z3t-7rNQ",
        "colab": {
          "base_uri": "https://localhost:8080/"
        },
        "outputId": "159e704d-6589-46b7-b6a3-42215b6fc8b1"
      },
      "outputs": [
        {
          "output_type": "stream",
          "name": "stdout",
          "text": [
            "Requirement already satisfied: google-generativeai in /usr/local/lib/python3.11/dist-packages (0.8.5)\n",
            "Requirement already satisfied: google-ai-generativelanguage==0.6.15 in /usr/local/lib/python3.11/dist-packages (from google-generativeai) (0.6.15)\n",
            "Requirement already satisfied: google-api-core in /usr/local/lib/python3.11/dist-packages (from google-generativeai) (2.25.0)\n",
            "Requirement already satisfied: google-api-python-client in /usr/local/lib/python3.11/dist-packages (from google-generativeai) (2.171.0)\n",
            "Requirement already satisfied: google-auth>=2.15.0 in /usr/local/lib/python3.11/dist-packages (from google-generativeai) (2.38.0)\n",
            "Requirement already satisfied: protobuf in /usr/local/lib/python3.11/dist-packages (from google-generativeai) (5.29.5)\n",
            "Requirement already satisfied: pydantic in /usr/local/lib/python3.11/dist-packages (from google-generativeai) (2.11.5)\n",
            "Requirement already satisfied: tqdm in /usr/local/lib/python3.11/dist-packages (from google-generativeai) (4.67.1)\n",
            "Requirement already satisfied: typing-extensions in /usr/local/lib/python3.11/dist-packages (from google-generativeai) (4.14.0)\n",
            "Requirement already satisfied: proto-plus<2.0.0dev,>=1.22.3 in /usr/local/lib/python3.11/dist-packages (from google-ai-generativelanguage==0.6.15->google-generativeai) (1.26.1)\n",
            "Requirement already satisfied: googleapis-common-protos<2.0.0,>=1.56.2 in /usr/local/lib/python3.11/dist-packages (from google-api-core->google-generativeai) (1.70.0)\n",
            "Requirement already satisfied: requests<3.0.0,>=2.18.0 in /usr/local/lib/python3.11/dist-packages (from google-api-core->google-generativeai) (2.32.3)\n",
            "Requirement already satisfied: cachetools<6.0,>=2.0.0 in /usr/local/lib/python3.11/dist-packages (from google-auth>=2.15.0->google-generativeai) (5.5.2)\n",
            "Requirement already satisfied: pyasn1-modules>=0.2.1 in /usr/local/lib/python3.11/dist-packages (from google-auth>=2.15.0->google-generativeai) (0.4.2)\n",
            "Requirement already satisfied: rsa<5,>=3.1.4 in /usr/local/lib/python3.11/dist-packages (from google-auth>=2.15.0->google-generativeai) (4.9.1)\n",
            "Requirement already satisfied: httplib2<1.0.0,>=0.19.0 in /usr/local/lib/python3.11/dist-packages (from google-api-python-client->google-generativeai) (0.22.0)\n",
            "Requirement already satisfied: google-auth-httplib2<1.0.0,>=0.2.0 in /usr/local/lib/python3.11/dist-packages (from google-api-python-client->google-generativeai) (0.2.0)\n",
            "Requirement already satisfied: uritemplate<5,>=3.0.1 in /usr/local/lib/python3.11/dist-packages (from google-api-python-client->google-generativeai) (4.2.0)\n",
            "Requirement already satisfied: annotated-types>=0.6.0 in /usr/local/lib/python3.11/dist-packages (from pydantic->google-generativeai) (0.7.0)\n",
            "Requirement already satisfied: pydantic-core==2.33.2 in /usr/local/lib/python3.11/dist-packages (from pydantic->google-generativeai) (2.33.2)\n",
            "Requirement already satisfied: typing-inspection>=0.4.0 in /usr/local/lib/python3.11/dist-packages (from pydantic->google-generativeai) (0.4.1)\n",
            "Requirement already satisfied: grpcio<2.0.0,>=1.33.2 in /usr/local/lib/python3.11/dist-packages (from google-api-core[grpc]!=2.0.*,!=2.1.*,!=2.10.*,!=2.2.*,!=2.3.*,!=2.4.*,!=2.5.*,!=2.6.*,!=2.7.*,!=2.8.*,!=2.9.*,<3.0.0dev,>=1.34.1->google-ai-generativelanguage==0.6.15->google-generativeai) (1.72.1)\n",
            "Requirement already satisfied: grpcio-status<2.0.0,>=1.33.2 in /usr/local/lib/python3.11/dist-packages (from google-api-core[grpc]!=2.0.*,!=2.1.*,!=2.10.*,!=2.2.*,!=2.3.*,!=2.4.*,!=2.5.*,!=2.6.*,!=2.7.*,!=2.8.*,!=2.9.*,<3.0.0dev,>=1.34.1->google-ai-generativelanguage==0.6.15->google-generativeai) (1.71.0)\n",
            "Requirement already satisfied: pyparsing!=3.0.0,!=3.0.1,!=3.0.2,!=3.0.3,<4,>=2.4.2 in /usr/local/lib/python3.11/dist-packages (from httplib2<1.0.0,>=0.19.0->google-api-python-client->google-generativeai) (3.2.3)\n",
            "Requirement already satisfied: pyasn1<0.7.0,>=0.6.1 in /usr/local/lib/python3.11/dist-packages (from pyasn1-modules>=0.2.1->google-auth>=2.15.0->google-generativeai) (0.6.1)\n",
            "Requirement already satisfied: charset-normalizer<4,>=2 in /usr/local/lib/python3.11/dist-packages (from requests<3.0.0,>=2.18.0->google-api-core->google-generativeai) (3.4.2)\n",
            "Requirement already satisfied: idna<4,>=2.5 in /usr/local/lib/python3.11/dist-packages (from requests<3.0.0,>=2.18.0->google-api-core->google-generativeai) (3.10)\n",
            "Requirement already satisfied: urllib3<3,>=1.21.1 in /usr/local/lib/python3.11/dist-packages (from requests<3.0.0,>=2.18.0->google-api-core->google-generativeai) (2.4.0)\n",
            "Requirement already satisfied: certifi>=2017.4.17 in /usr/local/lib/python3.11/dist-packages (from requests<3.0.0,>=2.18.0->google-api-core->google-generativeai) (2025.4.26)\n",
            "Requirement already satisfied: gradio in /usr/local/lib/python3.11/dist-packages (5.31.0)\n",
            "Requirement already satisfied: aiofiles<25.0,>=22.0 in /usr/local/lib/python3.11/dist-packages (from gradio) (24.1.0)\n",
            "Requirement already satisfied: anyio<5.0,>=3.0 in /usr/local/lib/python3.11/dist-packages (from gradio) (4.9.0)\n",
            "Requirement already satisfied: fastapi<1.0,>=0.115.2 in /usr/local/lib/python3.11/dist-packages (from gradio) (0.115.12)\n",
            "Requirement already satisfied: ffmpy in /usr/local/lib/python3.11/dist-packages (from gradio) (0.6.0)\n",
            "Requirement already satisfied: gradio-client==1.10.1 in /usr/local/lib/python3.11/dist-packages (from gradio) (1.10.1)\n",
            "Requirement already satisfied: groovy~=0.1 in /usr/local/lib/python3.11/dist-packages (from gradio) (0.1.2)\n",
            "Requirement already satisfied: httpx>=0.24.1 in /usr/local/lib/python3.11/dist-packages (from gradio) (0.28.1)\n",
            "Requirement already satisfied: huggingface-hub>=0.28.1 in /usr/local/lib/python3.11/dist-packages (from gradio) (0.32.4)\n",
            "Requirement already satisfied: jinja2<4.0 in /usr/local/lib/python3.11/dist-packages (from gradio) (3.1.6)\n",
            "Requirement already satisfied: markupsafe<4.0,>=2.0 in /usr/local/lib/python3.11/dist-packages (from gradio) (3.0.2)\n",
            "Requirement already satisfied: numpy<3.0,>=1.0 in /usr/local/lib/python3.11/dist-packages (from gradio) (2.0.2)\n",
            "Requirement already satisfied: orjson~=3.0 in /usr/local/lib/python3.11/dist-packages (from gradio) (3.10.18)\n",
            "Requirement already satisfied: packaging in /usr/local/lib/python3.11/dist-packages (from gradio) (24.2)\n",
            "Requirement already satisfied: pandas<3.0,>=1.0 in /usr/local/lib/python3.11/dist-packages (from gradio) (2.2.2)\n",
            "Requirement already satisfied: pillow<12.0,>=8.0 in /usr/local/lib/python3.11/dist-packages (from gradio) (11.2.1)\n",
            "Requirement already satisfied: pydantic<2.12,>=2.0 in /usr/local/lib/python3.11/dist-packages (from gradio) (2.11.5)\n",
            "Requirement already satisfied: pydub in /usr/local/lib/python3.11/dist-packages (from gradio) (0.25.1)\n",
            "Requirement already satisfied: python-multipart>=0.0.18 in /usr/local/lib/python3.11/dist-packages (from gradio) (0.0.20)\n",
            "Requirement already satisfied: pyyaml<7.0,>=5.0 in /usr/local/lib/python3.11/dist-packages (from gradio) (6.0.2)\n",
            "Requirement already satisfied: ruff>=0.9.3 in /usr/local/lib/python3.11/dist-packages (from gradio) (0.11.12)\n",
            "Requirement already satisfied: safehttpx<0.2.0,>=0.1.6 in /usr/local/lib/python3.11/dist-packages (from gradio) (0.1.6)\n",
            "Requirement already satisfied: semantic-version~=2.0 in /usr/local/lib/python3.11/dist-packages (from gradio) (2.10.0)\n",
            "Requirement already satisfied: starlette<1.0,>=0.40.0 in /usr/local/lib/python3.11/dist-packages (from gradio) (0.46.2)\n",
            "Requirement already satisfied: tomlkit<0.14.0,>=0.12.0 in /usr/local/lib/python3.11/dist-packages (from gradio) (0.13.2)\n",
            "Requirement already satisfied: typer<1.0,>=0.12 in /usr/local/lib/python3.11/dist-packages (from gradio) (0.16.0)\n",
            "Requirement already satisfied: typing-extensions~=4.0 in /usr/local/lib/python3.11/dist-packages (from gradio) (4.14.0)\n",
            "Requirement already satisfied: uvicorn>=0.14.0 in /usr/local/lib/python3.11/dist-packages (from gradio) (0.34.3)\n",
            "Requirement already satisfied: fsspec in /usr/local/lib/python3.11/dist-packages (from gradio-client==1.10.1->gradio) (2025.3.2)\n",
            "Requirement already satisfied: websockets<16.0,>=10.0 in /usr/local/lib/python3.11/dist-packages (from gradio-client==1.10.1->gradio) (15.0.1)\n",
            "Requirement already satisfied: idna>=2.8 in /usr/local/lib/python3.11/dist-packages (from anyio<5.0,>=3.0->gradio) (3.10)\n",
            "Requirement already satisfied: sniffio>=1.1 in /usr/local/lib/python3.11/dist-packages (from anyio<5.0,>=3.0->gradio) (1.3.1)\n",
            "Requirement already satisfied: certifi in /usr/local/lib/python3.11/dist-packages (from httpx>=0.24.1->gradio) (2025.4.26)\n",
            "Requirement already satisfied: httpcore==1.* in /usr/local/lib/python3.11/dist-packages (from httpx>=0.24.1->gradio) (1.0.9)\n",
            "Requirement already satisfied: h11>=0.16 in /usr/local/lib/python3.11/dist-packages (from httpcore==1.*->httpx>=0.24.1->gradio) (0.16.0)\n",
            "Requirement already satisfied: filelock in /usr/local/lib/python3.11/dist-packages (from huggingface-hub>=0.28.1->gradio) (3.18.0)\n",
            "Requirement already satisfied: requests in /usr/local/lib/python3.11/dist-packages (from huggingface-hub>=0.28.1->gradio) (2.32.3)\n",
            "Requirement already satisfied: tqdm>=4.42.1 in /usr/local/lib/python3.11/dist-packages (from huggingface-hub>=0.28.1->gradio) (4.67.1)\n",
            "Requirement already satisfied: hf-xet<2.0.0,>=1.1.2 in /usr/local/lib/python3.11/dist-packages (from huggingface-hub>=0.28.1->gradio) (1.1.2)\n",
            "Requirement already satisfied: python-dateutil>=2.8.2 in /usr/local/lib/python3.11/dist-packages (from pandas<3.0,>=1.0->gradio) (2.9.0.post0)\n",
            "Requirement already satisfied: pytz>=2020.1 in /usr/local/lib/python3.11/dist-packages (from pandas<3.0,>=1.0->gradio) (2025.2)\n",
            "Requirement already satisfied: tzdata>=2022.7 in /usr/local/lib/python3.11/dist-packages (from pandas<3.0,>=1.0->gradio) (2025.2)\n",
            "Requirement already satisfied: annotated-types>=0.6.0 in /usr/local/lib/python3.11/dist-packages (from pydantic<2.12,>=2.0->gradio) (0.7.0)\n",
            "Requirement already satisfied: pydantic-core==2.33.2 in /usr/local/lib/python3.11/dist-packages (from pydantic<2.12,>=2.0->gradio) (2.33.2)\n",
            "Requirement already satisfied: typing-inspection>=0.4.0 in /usr/local/lib/python3.11/dist-packages (from pydantic<2.12,>=2.0->gradio) (0.4.1)\n",
            "Requirement already satisfied: click>=8.0.0 in /usr/local/lib/python3.11/dist-packages (from typer<1.0,>=0.12->gradio) (8.2.1)\n",
            "Requirement already satisfied: shellingham>=1.3.0 in /usr/local/lib/python3.11/dist-packages (from typer<1.0,>=0.12->gradio) (1.5.4)\n",
            "Requirement already satisfied: rich>=10.11.0 in /usr/local/lib/python3.11/dist-packages (from typer<1.0,>=0.12->gradio) (13.9.4)\n",
            "Requirement already satisfied: six>=1.5 in /usr/local/lib/python3.11/dist-packages (from python-dateutil>=2.8.2->pandas<3.0,>=1.0->gradio) (1.17.0)\n",
            "Requirement already satisfied: markdown-it-py>=2.2.0 in /usr/local/lib/python3.11/dist-packages (from rich>=10.11.0->typer<1.0,>=0.12->gradio) (3.0.0)\n",
            "Requirement already satisfied: pygments<3.0.0,>=2.13.0 in /usr/local/lib/python3.11/dist-packages (from rich>=10.11.0->typer<1.0,>=0.12->gradio) (2.19.1)\n",
            "Requirement already satisfied: charset-normalizer<4,>=2 in /usr/local/lib/python3.11/dist-packages (from requests->huggingface-hub>=0.28.1->gradio) (3.4.2)\n",
            "Requirement already satisfied: urllib3<3,>=1.21.1 in /usr/local/lib/python3.11/dist-packages (from requests->huggingface-hub>=0.28.1->gradio) (2.4.0)\n",
            "Requirement already satisfied: mdurl~=0.1 in /usr/local/lib/python3.11/dist-packages (from markdown-it-py>=2.2.0->rich>=10.11.0->typer<1.0,>=0.12->gradio) (0.1.2)\n"
          ]
        }
      ],
      "source": [
        "!pip install google-generativeai\n",
        "!pip install gradio\n",
        "\n",
        "# Import necessary libraries\n",
        "import google.generativeai as genai\n",
        "import os\n",
        "import gradio as gr\n",
        "from typing import Dict, List, Tuple\n",
        "import json"
      ]
    },
    {
      "cell_type": "code",
      "source": [
        "import google.generativeai as genai\n",
        "from google.colab import userdata\n",
        "\n",
        "genai.configure(api_key=userdata.get('GOOGLE_API_KEY'))\n",
        "\n",
        "model = genai.GenerativeModel(model_name='models/gemini-1.5-flash')\n",
        "response = model.generate_content(\"Give me a fun fact about AI.\")\n",
        "print(response.text)"
      ],
      "metadata": {
        "id": "kOji-xJ17uQX",
        "colab": {
          "base_uri": "https://localhost:8080/",
          "height": 89
        },
        "outputId": "5330fb89-03c6-4f58-9922-40744d328d59"
      },
      "execution_count": 2,
      "outputs": [
        {
          "output_type": "stream",
          "name": "stderr",
          "text": [
            "ERROR:tornado.access:503 POST /v1beta/models/gemini-1.5-flash:generateContent?%24alt=json%3Benum-encoding%3Dint (127.0.0.1) 2085.91ms\n"
          ]
        },
        {
          "output_type": "stream",
          "name": "stdout",
          "text": [
            "Some AI models are now being trained to generate not just text and images, but also completely novel scientific discoveries – proposing new materials with specific properties or even suggesting solutions to complex mathematical problems.  It's like having a super-powered, tireless lab assistant that's always brainstorming.\n",
            "\n"
          ]
        }
      ]
    },
    {
      "cell_type": "code",
      "source": [
        "# Healthcare Policy Database\n",
        "POLICY_DATABASE = {\n",
        "    \"Basic Health Plan\": {\n",
        "        \"description\": \"Most affordable option for essential healthcare needs\",\n",
        "        \"coverage\": [\n",
        "            \"In-Patient Hospitalization (shared room)\",\n",
        "            \"Emergency Room Services\",\n",
        "            \"Basic Diagnostic Services (emergency-related only)\",\n",
        "            \"Emergency Prescriptions (up to $250 annually)\"\n",
        "        ],\n",
        "        \"eligibility\": \"Individuals aged 18-55\",\n",
        "        \"premium\": \"$150 per month\",\n",
        "        \"deductible\": \"$1,500 per year\",\n",
        "        \"coverage_limit\": \"$100,000\",\n",
        "        \"network_hospitals\": \"2,500+\",\n",
        "        \"exclusions\": [\"Outpatient services\", \"Wellness benefits\", \"Maternity\", \"Dental care\"],\n",
        "        \"waiting_periods\": {\"pre_existing\": \"12 months\"},\n",
        "        \"target_audience\": [\"young adults\", \"budget-conscious\", \"basic coverage\"]\n",
        "    },\n",
        "    \"Family Health Plus Plan\": {\n",
        "        \"description\": \"Comprehensive coverage for families with in-patient and out-patient services\",\n",
        "        \"coverage\": [\n",
        "            \"Comprehensive In-Patient Hospitalization\",\n",
        "            \"Family Doctor Visits (10 per year per member)\",\n",
        "            \"Specialist Consultations (15 annually)\",\n",
        "            \"Diagnostics and Lab Tests\",\n",
        "            \"Emergency Care and Transport\",\n",
        "            \"Prescription Drugs (up to $500 per member)\"\n",
        "        ],\n",
        "        \"eligibility\": \"Families, including dependent children up to age 25\",\n",
        "        \"premium\": \"$350 per month\",\n",
        "        \"deductible\": \"$1,000 per individual / $3,000 per family\",\n",
        "        \"coverage_limit\": \"$500,000\",\n",
        "        \"network_hospitals\": \"5,000+\",\n",
        "        \"exclusions\": [\"Fertility treatments\", \"Cosmetic surgery\", \"Alternative therapies\"],\n",
        "        \"waiting_periods\": {\"pre_existing\": \"6 months\", \"maternity\": \"9 months\"},\n",
        "        \"target_audience\": [\"families\", \"children\", \"comprehensive coverage\"]\n",
        "    },\n",
        "    \"Comprehensive Health & Wellness Plan\": {\n",
        "        \"description\": \"Holistic health support with wellness resources\",\n",
        "        \"coverage\": [\n",
        "            \"All Family Health Plus benefits\",\n",
        "            \"Preventive Care Services\",\n",
        "            \"Mental Health Support (6 sessions per year)\",\n",
        "            \"Wellness Programs\",\n",
        "            \"Additional Specialist Coverage\",\n",
        "            \"Extended Prescription Drugs (up to $1,000 per member)\"\n",
        "        ],\n",
        "        \"eligibility\": \"Individuals and families with no age restrictions\",\n",
        "        \"premium\": \"$500 per month\",\n",
        "        \"deductible\": \"$750 per individual / $2,000 per family\",\n",
        "        \"coverage_limit\": \"$1,000,000\",\n",
        "        \"network_hospitals\": \"7,500+\",\n",
        "        \"exclusions\": [\"Alternative therapies\", \"Experimental treatments\"],\n",
        "        \"waiting_periods\": {\"pre_existing\": \"6 months\", \"mental_health\": \"3 months\"},\n",
        "        \"target_audience\": [\"wellness-focused\", \"preventive care\", \"mental health\"]\n",
        "    },\n",
        "    \"Senior Health Security Plan\": {\n",
        "        \"description\": \"Specialized coverage for seniors with extended healthcare needs\",\n",
        "        \"coverage\": [\n",
        "            \"Comprehensive Hospitalization with private rooms\",\n",
        "            \"Unlimited Specialized Consultations\",\n",
        "            \"Routine Prescriptions (up to $2,000 annually)\",\n",
        "            \"Vision and Dental Benefits\",\n",
        "            \"Senior Wellness Programs\"\n",
        "        ],\n",
        "        \"eligibility\": \"Individuals aged 55 and above\",\n",
        "        \"premium\": \"$600 per month\",\n",
        "        \"deductible\": \"$1,000 annually\",\n",
        "        \"coverage_limit\": \"$750,000\",\n",
        "        \"network_hospitals\": \"5,000+ with senior-focused facilities\",\n",
        "        \"exclusions\": [\"Cosmetic treatments\", \"Experimental treatments\"],\n",
        "        \"waiting_periods\": {\"pre_existing\": \"3 months\"},\n",
        "        \"target_audience\": [\"seniors\", \"55+\", \"specialized care\"]\n",
        "    }\n",
        "}\n",
        "\n",
        "# Add-on options\n",
        "ADD_ON_OPTIONS = {\n",
        "    \"Dental & Vision Add-On\": {\n",
        "        \"cost\": \"$50 per month per member\",\n",
        "        \"coverage\": [\"Two dental exams per year\", \"Annual eye exam\", \"$200 limit for corrective lenses\"],\n",
        "        \"eligibility\": \"Available with all plans\"\n",
        "    },\n",
        "    \"Maternity & Newborn Care Add-On\": {\n",
        "        \"cost\": \"$75 per month\",\n",
        "        \"coverage\": [\"Pre-natal and post-natal care\", \"Delivery expenses\", \"Newborn immunizations\"],\n",
        "        \"eligibility\": \"Only for Family Health Plus and Comprehensive Health & Wellness Plans\",\n",
        "        \"waiting_period\": \"9 months\"\n",
        "    },\n",
        "    \"International Travel Medical Insurance\": {\n",
        "        \"cost\": \"$40 per month\",\n",
        "        \"coverage\": [\"Emergency medical coverage abroad up to $100,000\", \"24/7 global helpline\"],\n",
        "        \"eligibility\": \"Available with all plans\"\n",
        "    }\n",
        "}\n",
        "\n",
        "print(\"✅ Policy database created successfully!\")"
      ],
      "metadata": {
        "id": "RVgrMI0t74IA",
        "colab": {
          "base_uri": "https://localhost:8080/"
        },
        "outputId": "d52cd138-7db1-4d58-c226-a8c0d801b86e"
      },
      "execution_count": 3,
      "outputs": [
        {
          "output_type": "stream",
          "name": "stdout",
          "text": [
            "✅ Policy database created successfully!\n"
          ]
        }
      ]
    },
    {
      "cell_type": "code",
      "source": [
        "from typing import Dict, List, Tuple\n",
        "import json\n",
        "\n",
        "class HealthcarePolicyAgent:\n",
        "    def __init__(self):\n",
        "        self.model = model\n",
        "        self.conversation_history = []\n",
        "\n",
        "    def analyze_user_requirements(self, user_input: str) -> Dict:\n",
        "        \"\"\"Extract user requirements from input\"\"\"\n",
        "        prompt = f\"\"\"\n",
        "        Analyze the following user input and extract key information for healthcare policy recommendation:\n",
        "\n",
        "        User Input: \"{user_input}\"\n",
        "\n",
        "        Extract and return the following information in a structured format:\n",
        "        - Age (if mentioned)\n",
        "        - Family status (individual, family, number of dependents)\n",
        "        - Special requirements (dental, vision, maternity, travel, wellness, mental health)\n",
        "        - Budget considerations (if mentioned)\n",
        "        - Specific health concerns (if mentioned)\n",
        "        - Current health status or pre-existing conditions (if mentioned)\n",
        "\n",
        "        Return this as a JSON-like structure with clear categories.\n",
        "        \"\"\"\n",
        "\n",
        "        try:\n",
        "            response = self.model.generate_content(prompt)\n",
        "            return response.text\n",
        "        except Exception as e:\n",
        "            return f\"Error analyzing requirements: {str(e)}\"\n",
        "\n",
        "    def recommend_policies(self, user_requirements: str) -> str:\n",
        "        \"\"\"Recommend suitable policies based on user requirements\"\"\"\n",
        "\n",
        "        # Create policy information string\n",
        "        policy_info = \"\"\n",
        "        for plan_name, details in POLICY_DATABASE.items():\n",
        "            policy_info += f\"\\n{plan_name}:\\n\"\n",
        "            policy_info += f\"- Description: {details['description']}\\n\"\n",
        "            policy_info += f\"- Eligibility: {details['eligibility']}\\n\"\n",
        "            policy_info += f\"- Premium: {details['premium']}\\n\"\n",
        "            policy_info += f\"- Coverage Limit: {details['coverage_limit']}\\n\"\n",
        "            policy_info += f\"- Key Coverage: {', '.join(details['coverage'][:3])}\\n\"\n",
        "\n",
        "        prompt = f\"\"\"\n",
        "        You are a healthcare insurance sales agent for HealthSecure Insurance Ltd.\n",
        "\n",
        "        Based on the user's requirements: \"{user_requirements}\"\n",
        "\n",
        "        And available policies: {policy_info}\n",
        "\n",
        "        Please recommend the most suitable policy(ies) and explain why. Consider:\n",
        "        1. Age and eligibility\n",
        "        2. Family size and dependents\n",
        "        3. Budget constraints\n",
        "        4. Special health needs\n",
        "        5. Coverage preferences\n",
        "\n",
        "        Provide a clear recommendation with:\n",
        "        - Primary policy recommendation with reasoning\n",
        "        - Alternative options if applicable\n",
        "        - Relevant add-ons that might be beneficial\n",
        "        - Key benefits that match their needs\n",
        "        - Next steps for enrollment\n",
        "\n",
        "        Be conversational, helpful, and focus on value proposition.\n",
        "        \"\"\"\n",
        "\n",
        "        try:\n",
        "            response = self.model.generate_content(prompt)\n",
        "            return response.text\n",
        "        except Exception as e:\n",
        "            return f\"Error generating recommendation: {str(e)}\"\n",
        "\n",
        "    def handle_followup_question(self, question: str, context: str) -> str:\n",
        "        \"\"\"Handle follow-up questions about policies\"\"\"\n",
        "\n",
        "        prompt = f\"\"\"\n",
        "        You are a healthcare insurance sales agent. A user is asking a follow-up question about healthcare policies.\n",
        "\n",
        "        Previous context: {context}\n",
        "\n",
        "        User's follow-up question: \"{question}\"\n",
        "\n",
        "        Available policy information: {json.dumps(POLICY_DATABASE, indent=2)}\n",
        "\n",
        "        Available add-ons: {json.dumps(ADD_ON_OPTIONS, indent=2)}\n",
        "\n",
        "        Please provide a helpful, accurate answer based on the HealthSecure Insurance policy details.\n",
        "        Be specific about coverage, costs, eligibility, and any relevant policy details.\n",
        "        \"\"\"\n",
        "\n",
        "        try:\n",
        "            response = self.model.generate_content(prompt)\n",
        "            return response.text\n",
        "        except Exception as e:\n",
        "            return f\"Error handling follow-up: {str(e)}\"\n",
        "\n",
        "# Initialize the agent\n",
        "agent = HealthcarePolicyAgent()\n",
        "print(\"✅ Healthcare Policy Agent initialized!\")"
      ],
      "metadata": {
        "id": "JlQNU5TU77BI",
        "colab": {
          "base_uri": "https://localhost:8080/"
        },
        "outputId": "44be66f4-ab86-44d9-d2c9-ef00fba6219e"
      },
      "execution_count": 4,
      "outputs": [
        {
          "output_type": "stream",
          "name": "stdout",
          "text": [
            "✅ Healthcare Policy Agent initialized!\n"
          ]
        }
      ]
    },
    {
      "cell_type": "code",
      "source": [
        "import gradio as gr\n",
        "\n",
        "def healthcare_policy_chatbot(message, history):\n",
        "    \"\"\"Main chatbot function with follow-up logic\"\"\"\n",
        "    if not message.strip():\n",
        "        return \"📝 Please describe your healthcare insurance needs so I can assist you better!\"\n",
        "\n",
        "    last_context = history[-1][1] if history else \"\"\n",
        "\n",
        "    if history and any(word in message.lower() for word in ['tell me more', 'what about', 'explain', 'how much', 'coverage', 'benefit']):\n",
        "        return agent.handle_followup_question(message, last_context)\n",
        "\n",
        "    return agent.recommend_policies(message)\n",
        "\n",
        "def create_interface():\n",
        "    \"\"\"Create upgraded Gradio UI\"\"\"\n",
        "\n",
        "    # Modern, clean CSS\n",
        "    css = \"\"\"\n",
        "    .gradio-container {\n",
        "        max-width: 900px !important;\n",
        "        margin: 2rem auto !important;\n",
        "        font-family: 'Segoe UI', sans-serif;\n",
        "        background-color: #f7fafd;\n",
        "        border-radius: 12px;\n",
        "        box-shadow: 0 4px 20px rgba(0, 0, 0, 0.05);\n",
        "    }\n",
        "    .prose {\n",
        "        line-height: 1.6;\n",
        "        font-size: 15px;\n",
        "    }\n",
        "    \"\"\"\n",
        "\n",
        "    # Create the Gradio ChatInterface\n",
        "    demo = gr.ChatInterface(\n",
        "        fn=healthcare_policy_chatbot,\n",
        "        title=\"🏥 HealthCare - Insurance Policy Advisor\",\n",
        "        description=\"\"\"\n",
        "        <div class='prose'>\n",
        "        Welcome to <strong>HealthCare Insurance</strong> 👋<br><br>\n",
        "        I’ll help you find the best health insurance policy for your needs.<br><br>\n",
        "\n",
        "        <strong>📌 What you can share with me:</strong>\n",
        "        <ul>\n",
        "            <li>👤 Your age and family status</li>\n",
        "            <li>👨‍👩‍👧‍👦 Number of dependents (if any)</li>\n",
        "            <li>🩺 Special needs (e.g. dental, maternity, vision)</li>\n",
        "            <li>💰 Budget preferences</li>\n",
        "            <li>📋 Any specific health conditions</li>\n",
        "        </ul>\n",
        "\n",
        "        <strong>📦 Sample Plans:</strong>\n",
        "        <ul>\n",
        "            <li><b>Basic Health Plan</b> – Rs 1500/month (Essential coverage)</li>\n",
        "            <li><b>Family Health Plus</b> – Rs 3500/month (Full family support)</li>\n",
        "            <li><b>Health & Wellness Plan</b> – Rs 5000/month (Wellness programs & more)</li>\n",
        "            <li><b>Senior Health Security</b> – Rs 6000/month (Senior care focus)</li>\n",
        "        </ul>\n",
        "\n",
        "        Type below to get started!\n",
        "        </div>\n",
        "        \"\"\",\n",
        "examples=[\n",
        "    \"I'm 30 and healthy, just need emergency coverage.\",\n",
        "    \"Single parent with a child, looking for affordable family health insurance.\",\n",
        "    \"Need a plan that covers mental health and online doctor consultations.\",\n",
        "    \"We're both in our 50s, need a plan with specialist visits and prescription coverage.\",\n",
        "    \"Young couple looking for maternity and newborn care options.\"\n",
        "],\n",
        "\n",
        "        theme=gr.themes.Soft(primary_hue=\"cyan\"),\n",
        "        css=css\n",
        "    )\n",
        "\n",
        "    return demo\n",
        "\n",
        "# Launch\n",
        "print(\"🚀 Launching HealthSecure Insurance Advisor UI...\")\n",
        "demo = create_interface()\n"
      ],
      "metadata": {
        "id": "9Iz8onpV79Ue",
        "colab": {
          "base_uri": "https://localhost:8080/"
        },
        "outputId": "1ca469a5-cb32-484e-caf9-01848ace05b1"
      },
      "execution_count": 5,
      "outputs": [
        {
          "output_type": "stream",
          "name": "stdout",
          "text": [
            "🚀 Launching HealthSecure Insurance Advisor UI...\n"
          ]
        },
        {
          "output_type": "stream",
          "name": "stderr",
          "text": [
            "/usr/local/lib/python3.11/dist-packages/gradio/chat_interface.py:339: UserWarning: The 'tuples' format for chatbot messages is deprecated and will be removed in a future version of Gradio. Please set type='messages' instead, which uses openai-style 'role' and 'content' keys.\n",
            "  self.chatbot = Chatbot(\n"
          ]
        }
      ]
    },
    {
      "cell_type": "code",
      "source": [
        "# Launch the application\n",
        "if __name__ == \"__main__\":\n",
        "    # Launch with public link for sharing\n",
        "    demo.launch(\n",
        "        share=True,  # Creates a public link\n",
        "        debug=True,  # Enable debug mode\n",
        "        server_name=\"0.0.0.0\",  # Allow external connections\n",
        "        server_port=7860  # Default Gradio port\n",
        "    )"
      ],
      "metadata": {
        "colab": {
          "base_uri": "https://localhost:8080/",
          "height": 611
        },
        "id": "V60P-FQt8MtA",
        "outputId": "fd59b3fb-50ec-4d77-c78c-96be677fb88a"
      },
      "execution_count": null,
      "outputs": [
        {
          "output_type": "stream",
          "name": "stdout",
          "text": [
            "Colab notebook detected. This cell will run indefinitely so that you can see errors and logs. To turn off, set debug=False in launch().\n",
            "* Running on public URL: https://610cd21038823423f0.gradio.live\n",
            "\n",
            "This share link expires in 1 week. For free permanent hosting and GPU upgrades, run `gradio deploy` from the terminal in the working directory to deploy to Hugging Face Spaces (https://huggingface.co/spaces)\n"
          ]
        },
        {
          "output_type": "display_data",
          "data": {
            "text/plain": [
              "<IPython.core.display.HTML object>"
            ],
            "text/html": [
              "<div><iframe src=\"https://610cd21038823423f0.gradio.live\" width=\"100%\" height=\"500\" allow=\"autoplay; camera; microphone; clipboard-read; clipboard-write;\" frameborder=\"0\" allowfullscreen></iframe></div>"
            ]
          },
          "metadata": {}
        }
      ]
    }
  ]
}